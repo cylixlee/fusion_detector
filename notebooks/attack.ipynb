{
 "cells": [
  {
   "cell_type": "code",
   "execution_count": null,
   "metadata": {},
   "outputs": [],
   "source": [
    "import pathlib\n",
    "import os\n",
    "import sys\n",
    "\n",
    "PROJECT_DIRECTORY = pathlib.PurePath(os.getcwd()).parent\n",
    "\n",
    "project_directory = str(PROJECT_DIRECTORY)\n",
    "if project_directory not in sys.path:\n",
    "    sys.path.insert(0, project_directory)\n",
    "print(project_directory)"
   ]
  },
  {
   "cell_type": "code",
   "execution_count": null,
   "metadata": {},
   "outputs": [],
   "source": [
    "from src.fusion_detector import perturbation, dataset\n",
    "\n",
    "batch = dataset.NormalizedCifarBatchDataset(8).batch\n",
    "x, labels = batch\n",
    "\n",
    "image = x[7].unsqueeze(0)\n",
    "print(image.requires_grad)"
   ]
  },
  {
   "cell_type": "code",
   "execution_count": null,
   "metadata": {},
   "outputs": [],
   "source": [
    "import matplotlib.pyplot as plt\n",
    "import torchvision.transforms as T\n",
    "\n",
    "original = image.squeeze().clone().detach()\n",
    "\n",
    "mean = (0.4914, 0.4822, 0.4465)\n",
    "std = (0.2471, 0.2435, 0.2616)\n",
    "for channel in range(3):\n",
    "    original[channel].mul_(std[channel]).add_(mean[channel])\n",
    "\n",
    "plt.axis(\"off\")\n",
    "plt.imshow(T.ToPILImage()(original))\n",
    "plt.show()"
   ]
  },
  {
   "cell_type": "code",
   "execution_count": null,
   "metadata": {},
   "outputs": [],
   "source": [
    "from src.fusion_detector.thirdparty.pytorch_cifar10 import module as M\n",
    "\n",
    "vgg = M.vgg19_bn(pretrained=True)"
   ]
  },
  {
   "cell_type": "code",
   "execution_count": null,
   "metadata": {},
   "outputs": [],
   "source": [
    "attack = perturbation.fgsm(vgg, epsilon=0.1)\n",
    "\n",
    "adversarial = attack(image)\n",
    "adversarial_show = adversarial.squeeze().clone().detach()\n",
    "\n",
    "for channel in range(3):\n",
    "    adversarial_show[channel].mul_(std[channel]).add_(mean[channel])\n",
    "\n",
    "plt.axis(\"off\")\n",
    "plt.imshow(T.ToPILImage()(adversarial_show))\n",
    "plt.show()"
   ]
  },
  {
   "cell_type": "code",
   "execution_count": null,
   "metadata": {},
   "outputs": [],
   "source": [
    "after = image.squeeze().clone().detach()\n",
    "\n",
    "mean = (0.4914, 0.4822, 0.4465)\n",
    "std = (0.2471, 0.2435, 0.2616)\n",
    "# for channel in range(3):\n",
    "#     after[channel].mul_(std[channel]).add_(mean[channel])\n",
    "\n",
    "plt.axis(\"off\")\n",
    "plt.imshow(T.ToPILImage()(after))\n",
    "plt.show()"
   ]
  },
  {
   "cell_type": "code",
   "execution_count": null,
   "metadata": {},
   "outputs": [],
   "source": [
    "import torch\n",
    "\n",
    "assert torch.equal(original, after)"
   ]
  },
  {
   "cell_type": "code",
   "execution_count": null,
   "metadata": {},
   "outputs": [],
   "source": [
    "difference = adversarial_show - original\n",
    "plt.axis(\"off\")\n",
    "plt.imshow(T.ToPILImage()(difference))\n",
    "plt.show()"
   ]
  }
 ],
 "metadata": {
  "kernelspec": {
   "display_name": ".venv",
   "language": "python",
   "name": "python3"
  },
  "language_info": {
   "codemirror_mode": {
    "name": "ipython",
    "version": 3
   },
   "file_extension": ".py",
   "mimetype": "text/x-python",
   "name": "python",
   "nbconvert_exporter": "python",
   "pygments_lexer": "ipython3",
   "version": "3.11.7"
  }
 },
 "nbformat": 4,
 "nbformat_minor": 2
}
