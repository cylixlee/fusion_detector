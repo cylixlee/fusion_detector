{
 "cells": [
  {
   "cell_type": "code",
   "execution_count": 1,
   "metadata": {},
   "outputs": [
    {
     "name": "stdout",
     "output_type": "stream",
     "text": [
      "g:\\Python\\fusion_detector\n"
     ]
    }
   ],
   "source": [
    "import pathlib\n",
    "import os\n",
    "import sys\n",
    "\n",
    "PROJECT_DIRECTORY = pathlib.PurePath(os.getcwd()).parent\n",
    "project_directory = str(PROJECT_DIRECTORY)\n",
    "if project_directory not in sys.path:\n",
    "    sys.path.insert(0, project_directory)\n",
    "print(project_directory)"
   ]
  },
  {
   "cell_type": "code",
   "execution_count": 2,
   "metadata": {},
   "outputs": [
    {
     "name": "stdout",
     "output_type": "stream",
     "text": [
      "0\n"
     ]
    },
    {
     "data": {
      "image/png": "[encoded data removed]",
      "text/plain": [
       "<Figure size 640x480 with 1 Axes>"
      ]
     },
     "metadata": {},
     "output_type": "display_data"
    },
    {
     "name": "stdout",
     "output_type": "stream",
     "text": [
      "shit.\n"
     ]
    }
   ],
   "source": [
    "from src.fusion_detector import dataset\n",
    "from tqdm import tqdm\n",
    "from torchvision import transforms\n",
    "from torchvision.utils import make_grid\n",
    "import matplotlib.pyplot as plt\n",
    "\n",
    "datasource = dataset.CifarHybridDataSource()\n",
    "\n",
    "for i in range(len(datasource)):\n",
    "    batch = datasource[i]\n",
    "    x, label = batch\n",
    "    if label == 0:\n",
    "        print(label)\n",
    "        plt.axis(\"off\")\n",
    "        plt.imshow(x)\n",
    "        plt.show()\n",
    "        break\n",
    "print(\"shit.\")"
   ]
  }
 ],
 "metadata": {
  "kernelspec": {
   "display_name": ".venv",
   "language": "python",
   "name": "python3"
  },
  "language_info": {
   "codemirror_mode": {
    "name": "ipython",
    "version": 3
   },
   "file_extension": ".py",
   "mimetype": "text/x-python",
   "name": "python",
   "nbconvert_exporter": "python",
   "pygments_lexer": "ipython3",
   "version": "3.11.7"
  }
 },
 "nbformat": 4,
 "nbformat_minor": 2
}
