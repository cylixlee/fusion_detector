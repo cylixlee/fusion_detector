{
 "cells": [
  {
   "cell_type": "code",
   "execution_count": 1,
   "metadata": {},
   "outputs": [],
   "source": [
    "import pathlib\n",
    "import os\n",
    "import sys\n",
    "\n",
    "PROJECT_DIRECTORY = pathlib.PurePath(os.getcwd()).parent\n",
    "CIFAR_PATH = PROJECT_DIRECTORY / \"data\" / \"datasets\" / \"CIFAR10\"\n",
    "project_directory = str(PROJECT_DIRECTORY)\n",
    "if project_directory not in sys.path:\n",
    "    sys.path.insert(0, project_directory)\n"
   ]
  },
  {
   "cell_type": "code",
   "execution_count": 2,
   "metadata": {},
   "outputs": [
    {
     "name": "stdout",
     "output_type": "stream",
     "text": [
      "Files already downloaded and verified\n"
     ]
    }
   ],
   "source": [
    "from torchvision import datasets, transforms\n",
    "from torch.utils.data.dataloader import DataLoader\n",
    "\n",
    "test_transform = transforms.Compose(\n",
    "    [\n",
    "        transforms.ToTensor(),\n",
    "    ]\n",
    ")\n",
    "raw_testset = datasets.CIFAR10(\n",
    "    str(CIFAR_PATH),\n",
    "    train=False,\n",
    "    transform=test_transform,\n",
    "    download=True,\n",
    ")\n",
    "testloader = DataLoader(\n",
    "    raw_testset,\n",
    "    batch_size=8,\n",
    ")"
   ]
  },
  {
   "cell_type": "code",
   "execution_count": 3,
   "metadata": {},
   "outputs": [
    {
     "data": {
      "image/png": "[encoded data removed]",
      "text/plain": [
       "<Figure size 640x480 with 1 Axes>"
      ]
     },
     "metadata": {},
     "output_type": "display_data"
    }
   ],
   "source": [
    "batch = next(iter(testloader))\n",
    "x, labels = batch\n",
    "\n",
    "import matplotlib.pyplot as plt\n",
    "\n",
    "image = x[7].unsqueeze(0)\n",
    "plt.axis(\"off\")\n",
    "plt.imshow(transforms.ToPILImage()(image.squeeze()))\n",
    "plt.show()"
   ]
  },
  {
   "cell_type": "code",
   "execution_count": 4,
   "metadata": {},
   "outputs": [
    {
     "name": "stdout",
     "output_type": "stream",
     "text": [
      "True\n"
     ]
    },
    {
     "data": {
      "image/png": "[encoded data removed]",
      "text/plain": [
       "<Figure size 640x480 with 1 Axes>"
      ]
     },
     "metadata": {},
     "output_type": "display_data"
    }
   ],
   "source": [
    "from src.fusion_detector.thirdparty.pytorch_cifar10 import module as M\n",
    "from src.fusion_detector import perturbation\n",
    "\n",
    "vgg = M.vgg19_bn(pretrained=True)\n",
    "attack = perturbation.pgd(vgg, epsilon=0.1)\n",
    "# attack = perturbation.fgsm(vgg, epsilon=0.05)\n",
    "\n",
    "adversarial = attack(image)\n",
    "\n",
    "print(adversarial.requires_grad)\n",
    "\n",
    "plt.axis(\"off\")\n",
    "plt.imshow(transforms.ToPILImage()(adversarial.squeeze()))\n",
    "# plt.imshow(transforms.ToPILImage()(adversarial.squeeze().clamp(0, 1)))\n",
    "plt.show()"
   ]
  },
  {
   "cell_type": "code",
   "execution_count": 5,
   "metadata": {},
   "outputs": [
    {
     "name": "stdout",
     "output_type": "stream",
     "text": [
      "tensor([[[0.4255, 0.2216, 0.3676,  ..., 0.0559, 0.1344, 0.0000],\n",
      "         [0.3794, 0.2755, 0.3255,  ..., 0.0176, 0.0986, 0.1716],\n",
      "         [0.4216, 0.2676, 0.3575,  ..., 0.2382, 0.1422, 0.1578],\n",
      "         ...,\n",
      "         [0.3422, 0.4382, 0.4225,  ..., 0.2608, 0.3255, 0.2755],\n",
      "         [0.3412, 0.3059, 0.1863,  ..., 0.2873, 0.2598, 0.3363],\n",
      "         [0.2931, 0.1471, 0.2745,  ..., 0.2520, 0.3980, 0.2324]],\n",
      "\n",
      "        [[0.4686, 0.2686, 0.3482,  ..., 0.1333, 0.2137, 0.0655],\n",
      "         [0.3765, 0.2725, 0.3225,  ..., 0.0255, 0.0716, 0.0716],\n",
      "         [0.4686, 0.3108, 0.3635,  ..., 0.2304, 0.1631, 0.0922],\n",
      "         ...,\n",
      "         [0.2765, 0.3569, 0.3676,  ..., 0.1422, 0.1882, 0.1118],\n",
      "         [0.3863, 0.1853, 0.0922,  ..., 0.1765, 0.1186, 0.1647],\n",
      "         [0.1608, 0.0451, 0.1529,  ..., 0.1569, 0.1569, 0.1490]],\n",
      "\n",
      "        [[0.3442, 0.3294, 0.2755,  ..., 0.1176, 0.1980, 0.0824],\n",
      "         [0.3873, 0.3833, 0.2333,  ..., 0.0059, 0.1520, 0.2059],\n",
      "         [0.4294, 0.3255, 0.3716,  ..., 0.2608, 0.1647, 0.2225],\n",
      "         ...,\n",
      "         [0.3137, 0.2902, 0.2398,  ..., 0.1676, 0.1098, 0.0333],\n",
      "         [0.2775, 0.2265, 0.0294,  ..., 0.2020, 0.0480, 0.0902],\n",
      "         [0.1559, 0.0000, 0.0941,  ..., 0.0000, 0.0941, 0.0363]]],\n",
      "       grad_fn=<SqueezeBackward0>)\n"
     ]
    }
   ],
   "source": [
    "print(adversarial.squeeze())"
   ]
  }
 ],
 "metadata": {
  "kernelspec": {
   "display_name": ".venv",
   "language": "python",
   "name": "python3"
  },
  "language_info": {
   "codemirror_mode": {
    "name": "ipython",
    "version": 3
   },
   "file_extension": ".py",
   "mimetype": "text/x-python",
   "name": "python",
   "nbconvert_exporter": "python",
   "pygments_lexer": "ipython3",
   "version": "3.11.7"
  }
 },
 "nbformat": 4,
 "nbformat_minor": 2
}
