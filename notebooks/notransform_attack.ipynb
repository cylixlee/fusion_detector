{
 "cells": [
  {
   "cell_type": "code",
   "execution_count": null,
   "metadata": {},
   "outputs": [],
   "source": [
    "import pathlib\n",
    "import os\n",
    "import sys\n",
    "\n",
    "PROJECT_DIRECTORY = pathlib.PurePath(os.getcwd()).parent\n",
    "CIFAR_PATH = PROJECT_DIRECTORY / \"data\" / \"datasets\" / \"CIFAR10\"\n",
    "project_directory = str(PROJECT_DIRECTORY)\n",
    "if project_directory not in sys.path:\n",
    "    sys.path.insert(0, project_directory)\n"
   ]
  },
  {
   "cell_type": "code",
   "execution_count": null,
   "metadata": {},
   "outputs": [],
   "source": [
    "from torchvision import datasets, transforms\n",
    "from torch.utils.data.dataloader import DataLoader\n",
    "\n",
    "test_transform = transforms.Compose(\n",
    "    [\n",
    "        transforms.ToTensor(),\n",
    "    ]\n",
    ")\n",
    "raw_testset = datasets.CIFAR10(\n",
    "    str(CIFAR_PATH),\n",
    "    train=False,\n",
    "    transform=test_transform,\n",
    "    download=True,\n",
    ")\n",
    "testloader = DataLoader(\n",
    "    raw_testset,\n",
    "    batch_size=8,\n",
    ")\n",
    "\n",
    "print(len(testloader) * testloader.batch_size)"
   ]
  },
  {
   "cell_type": "code",
   "execution_count": null,
   "metadata": {},
   "outputs": [],
   "source": [
    "batch = next(iter(testloader))\n",
    "x, labels = batch\n",
    "\n",
    "import matplotlib.pyplot as plt\n",
    "\n",
    "image = x[7].unsqueeze(0)\n",
    "plt.axis(\"off\")\n",
    "plt.imshow(transforms.ToPILImage()(image.squeeze()))\n",
    "plt.show()"
   ]
  },
  {
   "cell_type": "code",
   "execution_count": null,
   "metadata": {},
   "outputs": [],
   "source": [
    "from src.fusion_detector.thirdparty.pytorch_cifar10 import module as M\n",
    "from src.fusion_detector import perturbation\n",
    "\n",
    "vgg = M.vgg19_bn(pretrained=True)\n",
    "attack = perturbation.pgd(vgg, epsilon=0.1)\n",
    "# attack = perturbation.fgsm(vgg, epsilon=0.05)\n",
    "\n",
    "adversarial = attack(image)\n",
    "\n",
    "print(adversarial.requires_grad)\n",
    "\n",
    "plt.axis(\"off\")\n",
    "plt.imshow(transforms.ToPILImage()(adversarial.squeeze()))\n",
    "# plt.imshow(transforms.ToPILImage()(adversarial.squeeze().clamp(0, 1)))\n",
    "plt.show()"
   ]
  },
  {
   "cell_type": "code",
   "execution_count": null,
   "metadata": {},
   "outputs": [],
   "source": [
    "print(adversarial.squeeze())"
   ]
  }
 ],
 "metadata": {
  "kernelspec": {
   "display_name": ".venv",
   "language": "python",
   "name": "python3"
  },
  "language_info": {
   "codemirror_mode": {
    "name": "ipython",
    "version": 3
   },
   "file_extension": ".py",
   "mimetype": "text/x-python",
   "name": "python",
   "nbconvert_exporter": "python",
   "pygments_lexer": "ipython3",
   "version": "3.11.7"
  }
 },
 "nbformat": 4,
 "nbformat_minor": 2
}
