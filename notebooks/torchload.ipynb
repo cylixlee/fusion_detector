{
 "cells": [
  {
   "cell_type": "code",
   "execution_count": null,
   "metadata": {},
   "outputs": [],
   "source": [
    "import pathlib\n",
    "import os\n",
    "\n",
    "PROJECT_DIRECTORY = pathlib.PurePath(os.getcwd()).parent\n",
    "testset_path = (\n",
    "    PROJECT_DIRECTORY / \"data\" / \"datasets\" / \"CIFAR10Adversarial\" \n",
    "    / \"FGSM\" / \"vgg19_bn\" / \"testset.pt\"\n",
    ")\n",
    "print(testset_path)"
   ]
  },
  {
   "cell_type": "code",
   "execution_count": null,
   "metadata": {},
   "outputs": [],
   "source": [
    "import torch\n",
    "\n",
    "testset = torch.load(str(testset_path), map_location=\"cpu\")\n",
    "print(testset[0].shape)\n",
    "print(testset[1].shape)"
   ]
  },
  {
   "cell_type": "code",
   "execution_count": null,
   "metadata": {},
   "outputs": [],
   "source": [
    "image = (testset[0])[1].detach()\n",
    "\n",
    "import matplotlib.pyplot as plt\n",
    "from torchvision import transforms as T\n",
    "\n",
    "mean = (0.4914, 0.4822, 0.4465)\n",
    "std = (0.2471, 0.2435, 0.2616)\n",
    "for channel in range(3):\n",
    "    image[channel].mul_(std[channel]).add_(mean[channel])\n",
    "\n",
    "plt.axis(\"off\")\n",
    "plt.imshow(T.ToPILImage()(image))\n",
    "plt.show()"
   ]
  }
 ],
 "metadata": {
  "kernelspec": {
   "display_name": ".venv",
   "language": "python",
   "name": "python3"
  },
  "language_info": {
   "codemirror_mode": {
    "name": "ipython",
    "version": 3
   },
   "file_extension": ".py",
   "mimetype": "text/x-python",
   "name": "python",
   "nbconvert_exporter": "python",
   "pygments_lexer": "ipython3",
   "version": "3.11.7"
  }
 },
 "nbformat": 4,
 "nbformat_minor": 2
}
